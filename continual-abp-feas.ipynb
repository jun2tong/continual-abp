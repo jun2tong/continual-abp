{
 "cells": [
  {
   "cell_type": "code",
   "execution_count": 1,
   "metadata": {},
   "outputs": [
    {
     "name": "stdout",
     "output_type": "stream",
     "text": [
      "Using cuda:0\n"
     ]
    }
   ],
   "source": [
    "import os\n",
    "import pickle\n",
    "\n",
    "import scipy.io as sio\n",
    "import numpy as np # linear algebra\n",
    "import pandas as pd # data processing, CSV file I/O (e.g. pd.read_csv)\n",
    "import torch\n",
    "import torch.nn as nn\n",
    "import torch.utils as tutils\n",
    "from torch.nn import functional as F\n",
    "from torch.utils.data import DataLoader\n",
    "\n",
    "import torchvision.transforms as tv_transforms\n",
    "import torchvision.utils as vutils\n",
    "import torchvision.datasets as tv_datasets\n",
    "import matplotlib.pyplot as plt\n",
    "\n",
    "from sklearn.metrics.pairwise import cosine_similarity\n",
    "from sklearn import preprocessing\n",
    "from sklearn.decomposition import PCA\n",
    "\n",
    "device = \"cuda:0\" if torch.cuda.is_available() else \"cpu\"\n",
    "print(f\"Using {device}\")"
   ]
  },
  {
   "cell_type": "markdown",
   "metadata": {},
   "source": [
    "# PCA with CUB and AWA2 "
   ]
  },
  {
   "cell_type": "code",
   "execution_count": 2,
   "metadata": {},
   "outputs": [],
   "source": [
    "matcontent = sio.loadmat(\"data/CUB/res101.mat\")\n",
    "feas = matcontent[\"features\"].T\n",
    "labels = matcontent['labels'].astype(int).squeeze() - 1\n",
    "\n",
    "matcontent = sio.loadmat(\"data/CUB/att_splits.mat\")\n",
    "test_seen_loc = matcontent['test_seen_loc'].squeeze() - 1\n",
    "test_unseen_loc = matcontent['test_unseen_loc'].squeeze() - 1\n",
    "trainval_loc = matcontent['trainval_loc'].squeeze() - 1"
   ]
  },
  {
   "cell_type": "code",
   "execution_count": 3,
   "metadata": {},
   "outputs": [],
   "source": [
    "perm_idx = np.random.permutation(np.arange(test_unseen_loc.shape[0]))\n",
    "train_idx = perm_idx[:int(test_unseen_loc.shape[0]*0.8)]\n",
    "test_idx = perm_idx[int(test_unseen_loc.shape[0]*0.8):]"
   ]
  },
  {
   "cell_type": "code",
   "execution_count": 4,
   "metadata": {},
   "outputs": [],
   "source": [
    "add_train_y = labels[test_unseen_loc[train_idx]]\n",
    "add_train_x = feas[test_unseen_loc[train_idx]]\n",
    "add_test_y = labels[test_unseen_loc[test_idx]]\n",
    "add_test_x = feas[test_unseen_loc[test_idx]]\n",
    "\n",
    "train_feas = np.concatenate([feas[trainval_loc], add_train_x], axis=0)\n",
    "train_y = np.concatenate([labels[trainval_loc], add_train_y])\n",
    "test_feas = np.concatenate([feas[test_seen_loc], add_test_x], axis=0)\n",
    "test_y = np.concatenate([labels[test_seen_loc], add_test_y])"
   ]
  },
  {
   "cell_type": "code",
   "execution_count": 5,
   "metadata": {},
   "outputs": [],
   "source": [
    "torch.save({\"train_x\": torch.from_numpy(train_feas).float(),\n",
    "            \"train_y\": torch.from_numpy(train_y).long(),\n",
    "            \"test_x\": torch.from_numpy(test_feas).float(),\n",
    "            \"test_y\": torch.from_numpy(test_y).long()}, \n",
    "            f\"data/CUB/train-test-split.tar\")"
   ]
  },
  {
   "cell_type": "code",
   "execution_count": 7,
   "metadata": {},
   "outputs": [
    {
     "data": {
      "text/plain": [
       "(9430,)"
      ]
     },
     "execution_count": 7,
     "metadata": {},
     "output_type": "execute_result"
    }
   ],
   "source": [
    "train_y.shape"
   ]
  },
  {
   "cell_type": "code",
   "execution_count": 27,
   "metadata": {},
   "outputs": [],
   "source": [
    "# scaler = preprocessing.MinMaxScaler()\n",
    "# train_feature = scaler.fit_transform(feas[trainval_loc])\n",
    "# test_seen_feature = scaler.transform(feas[test_seen_loc])\n",
    "# test_unseen_feature = scaler.transform(feas[test_unseen_loc])\n",
    "train_feature = feas[trainval_loc]\n",
    "test_seen_feature = feas[test_seen_loc]\n",
    "test_unseen_feature = feas[test_unseen_loc]\n",
    "mx = train_feature.max()\n",
    "train_feature = train_feature/mx\n",
    "test_seen_feature = test_seen_feature/mx\n",
    "test_unseen_feature = test_unseen_feature/mx\n",
    "\n",
    "test_seen_label = torch.from_numpy(labels[test_seen_loc]).long()\n",
    "test_unseen_label = torch.from_numpy(labels[test_unseen_loc]).long()\n",
    "train_label = torch.from_numpy(labels[trainval_loc]).long()"
   ]
  },
  {
   "cell_type": "code",
   "execution_count": 28,
   "metadata": {},
   "outputs": [],
   "source": [
    "num_comp = 100\n",
    "pca_fcn = PCA(n_components=num_comp).fit(train_feature)\n",
    "train_pca = pca_fcn.transform(train_feature)\n",
    "test_seen_pca = pca_fcn.transform(test_seen_feature)\n",
    "test_unseen_pca = pca_fcn.transform(test_unseen_feature)\n",
    "\n",
    "train_pca = torch.from_numpy(train_pca).float()\n",
    "test_seen_pca = torch.from_numpy(test_seen_pca).float()\n",
    "test_unseen_pca = torch.from_numpy(test_unseen_pca).float()"
   ]
  },
  {
   "cell_type": "code",
   "execution_count": 29,
   "metadata": {},
   "outputs": [],
   "source": [
    "torch.save({\"train_feas\": train_pca,\n",
    "            \"test_seen_feas\": test_seen_pca,\n",
    "            \"test_unseen_feas\": test_unseen_pca,\n",
    "            \"test_seen_label\": test_seen_label,\n",
    "            \"test_unseen_label\": test_unseen_label,\n",
    "            \"train_label\": train_label}, \n",
    "            f\"data/CUB/pca{num_comp}.tar\")"
   ]
  },
  {
   "cell_type": "code",
   "execution_count": null,
   "metadata": {},
   "outputs": [],
   "source": []
  },
  {
   "cell_type": "code",
   "execution_count": null,
   "metadata": {},
   "outputs": [],
   "source": [
    "# train_feas = torch.from_numpy(feas[trainval_loc])\n",
    "# mem_size = train_feas.element_size() * train_feas.nelement()\n",
    "# print(mem_size*1e-6)\n",
    "atensor = torch.randn(1, 224, 224, 3)\n",
    "img_mem_size = atensor.element_size()*atensor.nelement()\n",
    "atensor = torch.randn(1, 2048)\n",
    "feas_mem_size = atensor.element_size()*atensor.nelement()\n",
    "\n",
    "(img_mem_size*2000*1e-6)"
   ]
  },
  {
   "cell_type": "markdown",
   "metadata": {},
   "source": [
    "# Util for CORe50"
   ]
  },
  {
   "cell_type": "code",
   "execution_count": null,
   "metadata": {},
   "outputs": [],
   "source": [
    "from dataset import CORE50\n",
    "import torch.utils.data as data\n",
    "\n",
    "\n",
    "class CustomTensorDataset(data.Dataset):\n",
    "    def __init__(self, x_tensor, y_tensor, transform=None):\n",
    "        self.tensors = (x_tensor, y_tensor)\n",
    "        self.transform = transform\n",
    "        self.length = x_tensor.shape[0]\n",
    "\n",
    "    def __getitem__(self, index):\n",
    "        x = self.tensors[0][index]\n",
    "\n",
    "        if self.transform:\n",
    "            x = self.transform(x)\n",
    "\n",
    "        y = self.tensors[1][index]\n",
    "\n",
    "        return x, y\n",
    "\n",
    "    def __len__(self):\n",
    "        return self.length\n",
    "\n",
    "\n",
    "class LogitAppend(data.Dataset):\n",
    "    \"\"\"\n",
    "    Use this only on training data\n",
    "    \"\"\"\n",
    "    def __init__(self, dataset, y_tensor, name, remap=True):\n",
    "        super(LogitAppend, self).__init__()\n",
    "        self.dataset = dataset\n",
    "        self.name = name\n",
    "        self.number_classes = len(torch.unique(y_tensor))\n",
    "        class_list = torch.unique(y_tensor).numpy()\n",
    "        self.labels = torch.LongTensor(y_tensor)  # It will be used as tensor in loader generators.\n",
    "\n",
    "        self.remap = remap\n",
    "        if remap:\n",
    "            self.class_mapping = {c: i for i, c in enumerate(class_list)}\n",
    "\n",
    "        self.logits = [[] for _ in range(y_tensor.size(0))]\n",
    "\n",
    "    def __len__(self):\n",
    "        return len(self.logits)\n",
    "\n",
    "    def __getitem__(self, index):\n",
    "        img, _ = self.dataset[index]\n",
    "        label = self.labels[index]\n",
    "        if self.remap:\n",
    "            raw_target = label.item() if isinstance(label, torch.Tensor) else label\n",
    "            label = torch.tensor(self.class_mapping[raw_target])\n",
    "        logits = self.logits[index]\n",
    "        return img, label, logits\n",
    "            "
   ]
  },
  {
   "cell_type": "markdown",
   "metadata": {},
   "source": [
    "# Initialize Pre-trained Feature Extractor"
   ]
  },
  {
   "cell_type": "code",
   "execution_count": 2,
   "metadata": {},
   "outputs": [],
   "source": [
    "import torchvision.models as models\n",
    "\n",
    "model = models.resnet50(pretrained=False)\n",
    "model.fc = nn.Identity()\n",
    "# model.maxpool = nn.Identity()\n",
    "# model.avgpool = nn.Identity()\n",
    "model = model.to(device)"
   ]
  },
  {
   "cell_type": "code",
   "execution_count": null,
   "metadata": {},
   "outputs": [],
   "source": [
    "import torchvision.models as models\n",
    "model = models.vgg16(pretrained=True)\n",
    "# model.fc = nn.Identity()\n",
    "# model.maxpool = nn.Identity()\n",
    "# model.avgpool = nn.Identity()\n",
    "model = model.to(device)"
   ]
  },
  {
   "cell_type": "markdown",
   "metadata": {},
   "source": [
    "# One-Time Feature Extraction\n",
    "\n",
    "Core50 data, competition setup"
   ]
  },
  {
   "cell_type": "code",
   "execution_count": null,
   "metadata": {},
   "outputs": [],
   "source": [
    "dataset = CORE50(\"data/core50/data\", True, scenario='multi-task-nc')\n",
    "img_trans = tv_transforms.Compose([\n",
    "                                   tv_transforms.ToPILImage(),\n",
    "                                   tv_transforms.Resize(224),\n",
    "                                   tv_transforms.ToTensor(),\n",
    "                                   tv_transforms.Normalize(mean=[0.485, 0.456, 0.406],\n",
    "                                                           std=[0.229, 0.224, 0.225])])\n",
    "\n",
    "\n",
    "model.eval()\n",
    "for ii, (x_ds,y_ds,_) in enumerate(dataset):\n",
    "    print(f\"Task {ii+1}\")\n",
    "    x_ds = torch.from_numpy(x_ds).permute(0,3,1,2)\n",
    "    y_ds = torch.from_numpy(y_ds)\n",
    "    ds = CustomTensorDataset(x_ds, y_ds, img_trans)\n",
    "    dataloader = data.DataLoader(ds, batch_size=32, shuffle=False, \n",
    "                            num_workers=4)\n",
    "    feats = []\n",
    "    labels = []\n",
    "    with torch.no_grad():\n",
    "        for x_mb, y_mb in dataloader:\n",
    "            x_mb = x_mb.to(device)\n",
    "            feas = model(x_mb)\n",
    "            feats.append(feas)\n",
    "            labels.append(y_mb)\n",
    "    feats = torch.cat(feats, dim=0)\n",
    "    labels = torch.cat(labels)\n",
    "    print(f\"feat size: {feats.size()}\")\n",
    "    print(f\"label size: {labels.size()}\")\n",
    "    torch.save({\"x_train\": feats.cpu(),\n",
    "                \"y_train\": labels}, f\"data/core50feas_task{ii}.tar\")"
   ]
  },
  {
   "cell_type": "code",
   "execution_count": null,
   "metadata": {},
   "outputs": [],
   "source": [
    "dataset = CORE50(\"data/core50/data\", True, scenario='multi-task-nc')\n",
    "validset = dataset.get_full_valid_set()\n",
    "for (x_ds,y_ds), ii in validset:\n",
    "    print(f\"Task {ii+1}\")\n",
    "    x_ds = torch.from_numpy(x_ds).permute(0,3,1,2)\n",
    "    y_ds = torch.from_numpy(y_ds)\n",
    "    ds = CustomTensorDataset(x_ds, y_ds, img_trans)\n",
    "    dataloader = data.DataLoader(ds, batch_size=32, shuffle=False, \n",
    "                            num_workers=4)\n",
    "    feats = []\n",
    "    labels = []\n",
    "    with torch.no_grad():\n",
    "        for x_mb, y_mb in dataloader:\n",
    "            x_mb = x_mb.to(device)\n",
    "            feas = model(x_mb)\n",
    "            feats.append(feas)\n",
    "            labels.append(y_mb)\n",
    "    feats = torch.cat(feats, dim=0)\n",
    "    labels = torch.cat(labels)\n",
    "    print(f\"feat size: {feats.size()}\")\n",
    "    print(f\"label size: {labels.size()}\")\n",
    "    torch.save({\"x_valid\": feats.cpu(),\n",
    "                \"y_valid\": labels}, f\"data/core50feas_test_task{ii}.tar\")"
   ]
  },
  {
   "cell_type": "markdown",
   "metadata": {},
   "source": [
    "# One-Time Feature Extraction\n",
    "\n",
    "For CIFAR10/100.\n",
    "\n",
    "NOT Using Resnet56 from, https://github.com/akamaster/pytorch_resnet_cifar10"
   ]
  },
  {
   "cell_type": "code",
   "execution_count": 3,
   "metadata": {},
   "outputs": [],
   "source": [
    "img_trans = tv_transforms.Compose([\n",
    "#                                    tv_transforms.ToPILImage(),\n",
    "                                   tv_transforms.Resize(224),\n",
    "                                   tv_transforms.ToTensor(),\n",
    "                                   tv_transforms.Normalize(mean=[0.485, 0.456, 0.406],\n",
    "                                                           std=[0.229, 0.224, 0.225])])\n"
   ]
  },
  {
   "cell_type": "code",
   "execution_count": 4,
   "metadata": {},
   "outputs": [
    {
     "name": "stdout",
     "output_type": "stream",
     "text": [
      "Files already downloaded and verified\n",
      "Files already downloaded and verified\n",
      "train_feas: torch.Size([50000, 2048])\n",
      "train_labels: (50000,)\n",
      "test_feas: torch.Size([10000, 2048])\n",
      "test_label: (10000,)\n"
     ]
    }
   ],
   "source": [
    "mb_size = 128\n",
    "model.eval()\n",
    "train_feas = []\n",
    "train_labels = []\n",
    "cifar100 = tv_datasets.CIFAR10(\"data\", train=True, transform=img_trans, download=True)\n",
    "dataloader = DataLoader(cifar100, batch_size=mb_size, num_workers=4)\n",
    "with torch.no_grad():\n",
    "    for x_mb, y_mb in dataloader:\n",
    "        feas_out = model(x_mb.to(device))\n",
    "#         feas_out = model.avgpool(model.features(x_mb.to(device)))\n",
    "#         feas_out = model.classifier[0](feas_out.view(x_mb.size(0),-1))\n",
    "        train_labels.append(y_mb.numpy())\n",
    "        train_feas.append(feas_out.view(x_mb.size(0),-1).detach())\n",
    "\n",
    "    train_feas = torch.cat(train_feas, dim=0)\n",
    "    y_train = np.concatenate(train_labels)\n",
    "    \n",
    "test_feas = []\n",
    "test_labels = []\n",
    "cifar100 = tv_datasets.CIFAR10(\"data\", train=False, transform=img_trans, download=True)\n",
    "dataloader = DataLoader(cifar100, batch_size=mb_size, num_workers=4)\n",
    "with torch.no_grad():\n",
    "    for x_mb, y_mb in dataloader:\n",
    "        feas_out = model(x_mb.to(device))\n",
    "#         feas_out = model.avgpool(model.features(x_mb.to(device)))\n",
    "#         feas_out = model.classifier[0](feas_out.view(x_mb.size(0),-1))\n",
    "        test_labels.append(y_mb.numpy())\n",
    "        test_feas.append(feas_out.view(x_mb.size(0),-1).detach())\n",
    "\n",
    "    test_feas = torch.cat(test_feas, dim=0)\n",
    "    y_valid = np.concatenate(test_labels)\n",
    "    \n",
    "print(f\"train_feas: {train_feas.size()}\")\n",
    "print(f\"train_labels: {y_train.shape}\")\n",
    "print(f\"test_feas: {test_feas.size()}\")\n",
    "print(f\"test_label: {y_valid.shape}\")"
   ]
  },
  {
   "cell_type": "code",
   "execution_count": 5,
   "metadata": {},
   "outputs": [],
   "source": [
    "torch.save({\"x_train\": train_feas.cpu().detach(),\n",
    "            \"x_valid\": test_feas.cpu().detach(),\n",
    "            \"y_train\": torch.from_numpy(y_train).long(),\n",
    "            \"y_valid\": torch.from_numpy(y_valid).long()}, \n",
    "#            \"data/cifar-100-python/res18_feas_resized_prepool.tar\")\n",
    "           \"data/cifar-10-batches-py/res50_feas_randinit.tar\")"
   ]
  },
  {
   "cell_type": "markdown",
   "metadata": {},
   "source": [
    "# Load Extracted Features"
   ]
  },
  {
   "cell_type": "code",
   "execution_count": null,
   "metadata": {},
   "outputs": [],
   "source": [
    "checkpoint = torch.load(\"data/cifar-10-batches-py/res50_feas_resized.tar\")\n",
    "# checkpoint = torch.load(\"data/cifar-100-python/res50_feas_resized.tar\")\n",
    "x_train = checkpoint[\"x_train\"].numpy()\n",
    "x_valid = checkpoint[\"x_valid\"].numpy()\n",
    "\n",
    "y_train = checkpoint['y_train']\n",
    "y_valid = checkpoint[\"y_valid\"]\n",
    "\n",
    "scaler = preprocessing.MinMaxScaler()\n",
    "x_train = scaler.fit_transform(x_train)\n",
    "x_valid = scaler.transform(x_valid)\n",
    "x_train = torch.from_numpy(x_train)\n",
    "x_valid = torch.from_numpy(x_valid)"
   ]
  },
  {
   "cell_type": "markdown",
   "metadata": {},
   "source": [
    "# Train Upper Bound Classifier"
   ]
  },
  {
   "cell_type": "code",
   "execution_count": null,
   "metadata": {},
   "outputs": [],
   "source": [
    "from gen_model import LinearCLS\n",
    "\n",
    "mb_size = 128\n",
    "linear_cls = LinearCLS(x_train.size(1), 100).to(device)\n",
    "optimizer_cls = torch.optim.Adam(linear_cls.parameters(), lr=0.001, betas=(0.5, 0.999))\n",
    "cls_criterion = nn.NLLLoss()\n",
    "\n",
    "num_iter = x_train.size(0) // mb_size\n",
    "bd_indices = [ii for ii in range(0, x_train.size(0), mb_size)]\n",
    "\n",
    "for epc in range(40):\n",
    "    batch_indices = np.random.permutation(np.arange(x_train.size(0)))\n",
    "    for idx, iter_count in enumerate(bd_indices):\n",
    "        batch_idx = batch_indices[iter_count:iter_count+mb_size]\n",
    "        x_mb = x_train[batch_idx].float().to(device)\n",
    "        y_mb = y_train[batch_idx].to(device)\n",
    "        output = linear_cls(x_mb)\n",
    "        loss = cls_criterion(output, y_mb)\n",
    "        optimizer_cls.zero_grad()\n",
    "        loss.backward()\n",
    "        optimizer_cls.step()\n"
   ]
  },
  {
   "cell_type": "code",
   "execution_count": null,
   "metadata": {},
   "outputs": [],
   "source": [
    "num_iter = x_valid.size(0) // mb_size\n",
    "bd_indices = [ii for ii in range(0, x_valid.size(0), mb_size)]\n",
    "batch_indices = np.arange(x_valid.size(0))\n",
    "corr = 0\n",
    "with torch.no_grad():\n",
    "    for idx, iter_count in enumerate(bd_indices):\n",
    "        batch_idx = batch_indices[iter_count:iter_count+mb_size]\n",
    "        x_mb = x_valid[batch_idx].float().to(device)\n",
    "        y_mb = y_valid[batch_idx].to(device)\n",
    "        output = linear_cls(x_mb)\n",
    "        pred = torch.argmax(output,dim=1)\n",
    "        corr += torch.sum(torch.eq(y_mb, pred))\n",
    "\n",
    "acc = 100*corr / float(x_valid.size(0))\n",
    "print(f\"accuracy: {acc}\")"
   ]
  },
  {
   "cell_type": "markdown",
   "metadata": {},
   "source": [
    "# Visualization"
   ]
  },
  {
   "cell_type": "code",
   "execution_count": null,
   "metadata": {},
   "outputs": [],
   "source": [
    "from sklearn.manifold import TSNE\n"
   ]
  },
  {
   "cell_type": "code",
   "execution_count": 3,
   "metadata": {},
   "outputs": [
    {
     "data": {
      "image/png": "[encoded data removed]",
      "text/plain": [
       "<Figure size 720x504 with 1 Axes>"
      ]
     },
     "metadata": {
      "needs_background": "light"
     },
     "output_type": "display_data"
    }
   ],
   "source": [
    "zsl_arr = np.array([3.7, 16.6, 25.0, 29.5, 32.9, 32.9, 35.3, 37.6, 39.2,\n",
    "                    40.0, 43.3, 44.0, 45.0, 47.0, 49.7, 51.7, 52.5, 51.2,\n",
    "                    53.6, 52.7, 52.3])\n",
    "plt.figure(figsize=(10,7))\n",
    "plt.plot(zsl_arr, '-ro')\n",
    "plt.xlabel(\"Tasks\", fontsize=22)\n",
    "plt.xticks(ticks=np.arange(len(zsl_arr)),labels=np.arange(1,len(zsl_arr)+1), fontsize=16)\n",
    "plt.yticks(fontsize=16)\n",
    "plt.ylabel(\"ZSL Accuracy\", fontsize=22)\n",
    "plt.grid(True)\n",
    "plt.title(\"ZSL Accuracy Progression\", fontsize=26)\n",
    "plt.savefig(\"zsl_prog.png\",bbox_inches='tight')\n"
   ]
  },
  {
   "cell_type": "code",
   "execution_count": 71,
   "metadata": {},
   "outputs": [
    {
     "data": {
      "image/png": "[encoded data removed]",
      "text/plain": [
       "<Figure size 720x504 with 1 Axes>"
      ]
     },
     "metadata": {
      "needs_background": "light"
     },
     "output_type": "display_data"
    }
   ],
   "source": [
    "pca100 = np.array([49.6, 49.1, 49.8, 48.8, 49.6])\n",
    "pca200 = np.array([56.1, 55.6, 55.9, 56.4, 56.2])\n",
    "pca500 = np.array([60.1, 61.0, 60.6, 59.5, 60.3])\n",
    "pca1000 = np.array([53.5, 53.0, 53.2, 53.5, 54.2])\n",
    "pca1500 = np.array([46.3, 47.0, 46.5, 46.1, 46.3])\n",
    "pca2000 = np.array([40.5, 39.9, 40.1, 41.2, 40.5])\n",
    "pca_count = np.array([100, 200, 500, 1000, 1500, 2000])\n",
    "plt.figure(figsize=(10,7))\n",
    "# plt.bar([1,2,3,4,5,6], pca_arr)\n",
    "plt.boxplot([pca100, pca200, pca500, pca1000, pca1500, pca2000])\n",
    "\n",
    "plt.xticks([1,2,3,4,5,6], labels=pca_count, fontsize=14)\n",
    "plt.xlabel(\"PCA Components\", fontsize=22)\n",
    "plt.ylabel(r\"$A_T$\", fontsize=22)\n",
    "plt.yticks(fontsize=14)\n",
    "plt.title(r\"$A_T$ against PCA Components\", fontsize=24)\n",
    "plt.grid(True)\n",
    "# plt.show()\n",
    "plt.savefig(\"feas-dim.png\",bbox_inches='tight')"
   ]
  }
 ],
 "metadata": {
  "kernelspec": {
   "display_name": "Python 3",
   "language": "python",
   "name": "python3"
  },
  "language_info": {
   "codemirror_mode": {
    "name": "ipython",
    "version": 3
   },
   "file_extension": ".py",
   "mimetype": "text/x-python",
   "name": "python",
   "nbconvert_exporter": "python",
   "pygments_lexer": "ipython3",
   "version": "3.8.5"
  }
 },
 "nbformat": 4,
 "nbformat_minor": 4
}
